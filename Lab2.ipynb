{
 "cells": [
  {
   "cell_type": "markdown",
   "metadata": {},
   "source": [
    "TA: da24s006@smail.iitm.ac.in"
   ]
  },
  {
   "cell_type": "markdown",
   "metadata": {},
   "source": [
    "# Intro"
   ]
  },
  {
   "cell_type": "code",
   "execution_count": 1,
   "metadata": {},
   "outputs": [],
   "source": [
    "import time"
   ]
  },
  {
   "cell_type": "code",
   "execution_count": 2,
   "metadata": {},
   "outputs": [],
   "source": [
    "a = list(range(200000000))"
   ]
  },
  {
   "cell_type": "code",
   "execution_count": 3,
   "metadata": {},
   "outputs": [
    {
     "name": "stdout",
     "output_type": "stream",
     "text": [
      "Not Found\n",
      "8.81526803970337\n"
     ]
    }
   ],
   "source": [
    "i = -2\n",
    "\n",
    "start = time.time()\n",
    "\n",
    "if i in a:\n",
    "    print(\"Found\")\n",
    "else:\n",
    "    print(\"Not Found\")\n",
    "end = time.time()\n",
    "print(end-start)"
   ]
  },
  {
   "cell_type": "markdown",
   "metadata": {},
   "source": [
    "Searching in an unordered list is O(n) operation."
   ]
  },
  {
   "cell_type": "markdown",
   "metadata": {},
   "source": [
    "# Linked List"
   ]
  },
  {
   "cell_type": "code",
   "execution_count": null,
   "metadata": {},
   "outputs": [],
   "source": [
    "class Node:\n",
    "    # Magic methods; implicitly called by python\n",
    "    def __init__(self, num, next):\n",
    "        self.node = num\n",
    "        self.next = None\n",
    "        pass"
   ]
  },
  {
   "cell_type": "code",
   "execution_count": null,
   "metadata": {},
   "outputs": [],
   "source": [
    "def number_of_elems(head_LL):\n",
    "    ans = 0\n",
    "    curr = head_LL\n",
    "    while curr is not None:\n",
    "        curr = curr.next\n",
    "        ans += 1\n",
    "    return ans\n",
    "\n",
    "def insert_at_pos(head_LL, num, pos):\n",
    "    '''\n",
    "    args\n",
    "        head of linked list\n",
    "        data to be added\n",
    "        position of element to be added\n",
    "\n",
    "    pos must be within the range of the linked list\n",
    "    '''\n",
    "    size = number_of_elems(head_LL)\n",
    "    if pos > size:\n",
    "        print('Less elements than position')\n",
    "        return -1\n",
    "    \n",
    "\n",
    "def insert_after_node(data, node):\n",
    "    pass\n",
    "\n",
    "def delete_node(head_LL, node):\n",
    "    '''\n",
    "    check whether node exists in LL and delete that\n",
    "    '''\n",
    "    pass\n",
    "\n",
    "def search(head_LL, data_to_search):\n",
    "    '''\n",
    "    tells whether that data point is in the LL\n",
    "    '''\n",
    "    pass\n"
   ]
  },
  {
   "cell_type": "code",
   "execution_count": null,
   "metadata": {},
   "outputs": [],
   "source": [
    "linked_list = Node(3)\n",
    "linked_list.next(Node(4))"
   ]
  },
  {
   "cell_type": "markdown",
   "metadata": {},
   "source": [
    "## My version"
   ]
  },
  {
   "cell_type": "markdown",
   "metadata": {},
   "source": [
    "There need to be 2 classes for separation of responsibilities. Node does not need to know what the list is doing and the list doesn't care what the node contains. The operations are different"
   ]
  },
  {
   "cell_type": "code",
   "execution_count": null,
   "metadata": {},
   "outputs": [],
   "source": [
    "class LinkedList:\n",
    "    def __init__(self,):\n",
    "        self.head = None\n",
    "        pass\n",
    "\n",
    "    def add_new_element(self, element):\n",
    "        if self.head is None:\n",
    "            self.head = Node(element, next=None)\n",
    "            return\n",
    "        \n",
    "        last_node = self.head\n",
    "        while last_node.next is not None:\n",
    "            last_node = last_node.next\n",
    "        \n",
    "        last_node.next = Node(element, next=None)\n",
    "        return\n",
    "    \n",
    "    def number_of_elements(self):\n",
    "        total_elements = 0\n",
    "        current_node = self.head\n",
    "        while current_node is not None:\n",
    "            current_node = current_node.next\n",
    "            total_elements += 1\n",
    "\n",
    "        return total_elements\n",
    "    \n",
    "    def validate_position(self, position, allow_adding=False):\n",
    "        if position < 0:\n",
    "            print(\"position cannot be less than zero\")\n",
    "            return False\n",
    "\n",
    "        total_elements = self.number_of_elements()\n",
    "        \n",
    "        addition = 1 if allow_adding else 0\n",
    "        if position > total_elements + addition:\n",
    "            print(\"position out of linked list\")\n",
    "            return False\n",
    "        else:\n",
    "            return True\n",
    "    \n",
    "    def insert_at_position(self, element, position):\n",
    "        # Check if position is valid\n",
    "        if not self.validate_position(position, allow_adding=True):\n",
    "            return\n",
    "\n",
    "        total_elements = self.number_of_elements()\n",
    "        if position == total_elements + 1:\n",
    "            self.add_new_element(element)\n",
    "            return\n",
    "        else:\n",
    "            element_position = 0\n",
    "            current_node = self.head\n",
    "            reached = False\n",
    "            while current_node is not None:\n",
    "                reached = element_position == position - 1\n",
    "                if not reached:\n",
    "                    current_node = current_node.next\n",
    "                    element_position += 1\n",
    "                else:\n",
    "                    current_node.next = Node(element, next=current_node.next)\n",
    "                    break\n",
    "            return\n",
    "    \n",
    "    def delete_node(self, position):\n",
    "        '''\n",
    "        check whether node exists in LL and delete that\n",
    "        '''\n",
    "        if not self.validate_position(position):\n",
    "            return \n",
    "\n",
    "        if position == 0:\n",
    "            self.head = self.head.next\n",
    "            return\n",
    "\n",
    "        current_position = 0\n",
    "        current_node = self.head\n",
    "        while current_node is not None and current_position != position - 1:\n",
    "            current_node = current_node.next\n",
    "            current_position += 1\n",
    "        \n",
    "        element_to_delete = current_node.next\n",
    "        current_node.next = element_to_delete.next\n",
    "        return\n",
    "    \n",
    "    def search(self, value):\n",
    "        current_node = self.head\n",
    "        while current_node is not None:\n",
    "            current_node_value = current_node.data\n",
    "            if value == current_node_value:\n",
    "                return True\n",
    "            current_node = current_node.next\n",
    "\n",
    "    def show_list(self, ):\n",
    "        current_node = self.head\n",
    "        print(f\"{current_node.data} - \", end='')\n",
    "        while current_node.next is not None:\n",
    "            current_node = current_node.next\n",
    "            print(f\"{current_node.data} - \", end='')\n",
    "        print(\"END\")\n",
    "\n"
   ]
  },
  {
   "cell_type": "markdown",
   "metadata": {},
   "source": [
    "1 - 2 - 3 - 4 - 5 - 6 - 7 - 8\n",
    "\n",
    "* add 3.5 between 3 and 4\n",
    "* remove 3 from the list"
   ]
  },
  {
   "cell_type": "code",
   "execution_count": 71,
   "metadata": {},
   "outputs": [
    {
     "name": "stdout",
     "output_type": "stream",
     "text": [
      "True\n",
      "position out of linked list\n",
      "position out of linked list\n",
      "None\n",
      "20 - 30 - 100 - 40 - 50 - END\n",
      "20 - 100 - 40 - 50 - 60 - 80 - END\n"
     ]
    }
   ],
   "source": [
    "my_list = LinkedList()\n",
    "my_list.add_new_element(10)\n",
    "print(my_list.search(10))\n",
    "my_list.delete_node(position=0)\n",
    "my_list.delete_node(position=20)\n",
    "my_list.insert_at_position(100, 2)\n",
    "\n",
    "my_list.add_new_element(20)\n",
    "my_list.add_new_element(30)\n",
    "print(my_list.search(10))\n",
    "my_list.add_new_element(40)\n",
    "my_list.add_new_element(50)\n",
    "my_list.insert_at_position(100, 2)\n",
    "\n",
    "my_list.delete_node(position=1)\n",
    "\n",
    "my_list.add_new_element(60)\n",
    "my_list.add_new_element(70)\n",
    "my_list.add_new_element(80)\n",
    "\n",
    "my_list.delete_node(position=5)\n",
    "\n",
    "my_list.show_list()"
   ]
  },
  {
   "cell_type": "markdown",
   "metadata": {},
   "source": [
    "# Queues"
   ]
  },
  {
   "cell_type": "code",
   "execution_count": 21,
   "metadata": {},
   "outputs": [],
   "source": [
    "class Node:\n",
    "    def __init__(self, data, next=None):\n",
    "        self.data = data\n",
    "        self.next = next\n",
    "        pass\n",
    "\n",
    "class MyQueue:\n",
    "    def __init__(self,):\n",
    "        self.front = None\n",
    "        self.rear = None\n",
    "        self.size = 0\n",
    "        pass\n",
    "\n",
    "    def enqueue(self, data):\n",
    "        # append_to_rear\n",
    "        if self.size == 0:\n",
    "            node = Node(data)\n",
    "            self.front = node\n",
    "            self.rear = node\n",
    "            self.size += 1\n",
    "        else:\n",
    "            current_node = self.rear\n",
    "            current_node.next = Node(data)\n",
    "            current_node = current_node.next\n",
    "            self.rear = current_node\n",
    "            self.size += 1\n",
    "        return\n",
    "\n",
    "    def dequeue(self, ):\n",
    "        # remove_from_front\n",
    "        if self.size == 0:\n",
    "            return None\n",
    "        current_node = self.front\n",
    "        self.front = current_node.next\n",
    "        self.size -= 1\n",
    "        return current_node.data\n",
    "    \n",
    "    def show_queue(self, ):\n",
    "        current_node = self.front\n",
    "        while current_node is not None:\n",
    "            print(f\"{current_node.data} - \", end='')\n",
    "            current_node = current_node.next\n",
    "        \n",
    "        print(\"END\")\n"
   ]
  },
  {
   "cell_type": "code",
   "execution_count": 24,
   "metadata": {},
   "outputs": [
    {
     "name": "stdout",
     "output_type": "stream",
     "text": [
      "40 - 50 - 60 - 70 - 80 - END\n"
     ]
    }
   ],
   "source": [
    "my_q = MyQueue()\n",
    "my_q.enqueue(10)\n",
    "test1 = my_q.dequeue()\n",
    "test2 = my_q.dequeue()\n",
    "my_q.enqueue(20)\n",
    "my_q.enqueue(30)\n",
    "my_q.enqueue(40)\n",
    "my_q.enqueue(50)\n",
    "\n",
    "first = my_q.dequeue()\n",
    "\n",
    "my_q.enqueue(60)\n",
    "my_q.enqueue(70)\n",
    "my_q.enqueue(80)\n",
    "\n",
    "second = my_q.dequeue()\n",
    "my_q.show_queue()"
   ]
  },
  {
   "cell_type": "code",
   "execution_count": 27,
   "metadata": {},
   "outputs": [],
   "source": [
    "test2"
   ]
  },
  {
   "cell_type": "markdown",
   "metadata": {},
   "source": [
    "# Stack"
   ]
  },
  {
   "cell_type": "markdown",
   "metadata": {},
   "source": [
    "Not necessary to start from the bottom. You can start from the top. Think about time complexity"
   ]
  },
  {
   "cell_type": "code",
   "execution_count": 44,
   "metadata": {},
   "outputs": [],
   "source": [
    "class MyStack:\n",
    "    def __init__(self):\n",
    "        self.top = None\n",
    "        self.size = 0\n",
    "        pass\n",
    "        \n",
    "    def inset_to_top(self, data):\n",
    "        if self.size == 0:\n",
    "            self.top = Node(data)\n",
    "            self.size += 1\n",
    "            return\n",
    "        \n",
    "        self.top = Node(data, self.top)\n",
    "        self.size += 1\n",
    "        return\n",
    "\n",
    "    def remove_from_top(self, ):\n",
    "        if self.size == 0:\n",
    "            return None\n",
    "        top_node = self.top\n",
    "        self.top = self.top.next\n",
    "        self.size -= 1\n",
    "        return top_node.data\n",
    "    \n",
    "    def show_stack(self, ):\n",
    "        current_node = self.top\n",
    "        while current_node is not None:\n",
    "            print(f\"| {current_node.data} |\")\n",
    "            current_node = current_node.next\n",
    "        \n",
    "        print(\"--END--\")"
   ]
  },
  {
   "cell_type": "code",
   "execution_count": 45,
   "metadata": {},
   "outputs": [
    {
     "name": "stdout",
     "output_type": "stream",
     "text": [
      "| 70 |\n",
      "| 60 |\n",
      "| 40 |\n",
      "| 30 |\n",
      "| 20 |\n",
      "--END--\n"
     ]
    }
   ],
   "source": [
    "my_s = MyStack()\n",
    "my_s.inset_to_top(10)\n",
    "test1 = my_s.remove_from_top()\n",
    "test2 = my_s.remove_from_top()\n",
    "my_s.inset_to_top(20)\n",
    "my_s.inset_to_top(30)\n",
    "my_s.inset_to_top(40)\n",
    "my_s.inset_to_top(50)\n",
    "\n",
    "first = my_s.remove_from_top()\n",
    "\n",
    "my_s.inset_to_top(60)\n",
    "my_s.inset_to_top(70)\n",
    "my_s.inset_to_top(80)\n",
    "\n",
    "second = my_s.remove_from_top()\n",
    "my_s.show_stack()"
   ]
  },
  {
   "cell_type": "markdown",
   "metadata": {},
   "source": [
    "# Running notes\n",
    "- Get a better idea of len and indexing\n",
    "- Write the full code\n",
    "- pass by value vs pass by reference\n",
    "    - pass by refernce: function is not a blackbox anymore\n",
    "    - function can change things outside\n",
    "    - pass by value: only the return value matters\n",
    "- read about magic methods see how theyre implemented in python\n",
    "- we missed one class of DSA. Catch up needed\n",
    "- Aug 20 first test\n",
    "    - Linked Lists, Queues, Stacks, Trees, (tree balancing maybe not)\n",
    "- typically last wed of the month\n",
    "- wordle, math combination to get the right number,"
   ]
  },
  {
   "cell_type": "markdown",
   "metadata": {},
   "source": []
  }
 ],
 "metadata": {
  "kernelspec": {
   "display_name": "da5300",
   "language": "python",
   "name": "python3"
  },
  "language_info": {
   "codemirror_mode": {
    "name": "ipython",
    "version": 3
   },
   "file_extension": ".py",
   "mimetype": "text/x-python",
   "name": "python",
   "nbconvert_exporter": "python",
   "pygments_lexer": "ipython3",
   "version": "3.9.0"
  }
 },
 "nbformat": 4,
 "nbformat_minor": 2
}
